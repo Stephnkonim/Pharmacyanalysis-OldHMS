{
 "cells": [
  {
   "cell_type": "code",
   "execution_count": 6,
   "id": "6744911c-b506-4888-9914-bedd12b1c162",
   "metadata": {
    "tags": []
   },
   "outputs": [],
   "source": [
    "import pandas as pd\n",
    "import numpy as np\n",
    "import glob \n",
    "import os"
   ]
  },
  {
   "cell_type": "code",
   "execution_count": 7,
   "id": "40622c9d-812a-4e6b-b0e1-40bf6b260fc5",
   "metadata": {
    "tags": []
   },
   "outputs": [
    {
     "data": {
      "text/plain": [
       "'C:\\\\Users\\\\Steph\\\\OneDrive\\\\Documents\\\\Sandra Hospital analysis\\\\2020-2024 Analysis\\\\Pharmacy'"
      ]
     },
     "execution_count": 7,
     "metadata": {},
     "output_type": "execute_result"
    }
   ],
   "source": [
    "path = os.getcwd()\n",
    "path"
   ]
  },
  {
   "cell_type": "code",
   "execution_count": 10,
   "id": "13029701-148f-4f56-98fb-d675990fecd2",
   "metadata": {
    "tags": []
   },
   "outputs": [
    {
     "data": {
      "text/html": [
       "<div>\n",
       "<style scoped>\n",
       "    .dataframe tbody tr th:only-of-type {\n",
       "        vertical-align: middle;\n",
       "    }\n",
       "\n",
       "    .dataframe tbody tr th {\n",
       "        vertical-align: top;\n",
       "    }\n",
       "\n",
       "    .dataframe thead th {\n",
       "        text-align: right;\n",
       "    }\n",
       "</style>\n",
       "<table border=\"1\" class=\"dataframe\">\n",
       "  <thead>\n",
       "    <tr style=\"text-align: right;\">\n",
       "      <th></th>\n",
       "      <th>S/NO</th>\n",
       "      <th>Date</th>\n",
       "      <th>Hospital Number</th>\n",
       "      <th>Full Name</th>\n",
       "      <th>Doctor</th>\n",
       "      <th>Sponsor</th>\n",
       "      <th>Sponsor Category</th>\n",
       "      <th>Diagnosis</th>\n",
       "      <th>Drugs Requested</th>\n",
       "      <th>QTY Billed</th>\n",
       "      <th>Stock Level</th>\n",
       "      <th>Bill of Drugs</th>\n",
       "    </tr>\n",
       "  </thead>\n",
       "  <tbody>\n",
       "    <tr>\n",
       "      <th>0</th>\n",
       "      <td>1</td>\n",
       "      <td>4/30/2023</td>\n",
       "      <td>SH23/0292A</td>\n",
       "      <td>Jirgba Faeren</td>\n",
       "      <td>Dr Tony</td>\n",
       "      <td>Jirgba Terese Family</td>\n",
       "      <td>Family</td>\n",
       "      <td>Malaria Enteric fever</td>\n",
       "      <td>Inj Artesunate 120mg - NOT for NHIS</td>\n",
       "      <td>0 Amp(s)</td>\n",
       "      <td>-836</td>\n",
       "      <td>5,100.00</td>\n",
       "    </tr>\n",
       "    <tr>\n",
       "      <th>1</th>\n",
       "      <td>2</td>\n",
       "      <td>4/30/2023</td>\n",
       "      <td>SH23/0292A</td>\n",
       "      <td>Jirgba Faeren</td>\n",
       "      <td>Dr Tony</td>\n",
       "      <td>Jirgba Terese Family</td>\n",
       "      <td>Family</td>\n",
       "      <td>Malaria Enteric fever</td>\n",
       "      <td>5 mls syringe</td>\n",
       "      <td>0 Piece(s)</td>\n",
       "      <td>-15,786</td>\n",
       "      <td>800</td>\n",
       "    </tr>\n",
       "    <tr>\n",
       "      <th>2</th>\n",
       "      <td>3</td>\n",
       "      <td>4/30/2023</td>\n",
       "      <td>SH23/0292A</td>\n",
       "      <td>Jirgba Faeren</td>\n",
       "      <td>Dr Tony</td>\n",
       "      <td>Jirgba Terese Family</td>\n",
       "      <td>Family</td>\n",
       "      <td>Malaria Enteric fever</td>\n",
       "      <td>IV Cipro</td>\n",
       "      <td>0 Infusion(s)</td>\n",
       "      <td>-2,315</td>\n",
       "      <td>1,400.00</td>\n",
       "    </tr>\n",
       "  </tbody>\n",
       "</table>\n",
       "</div>"
      ],
      "text/plain": [
       "  S/NO       Date Hospital Number      Full Name   Doctor  \\\n",
       "0    1  4/30/2023      SH23/0292A  Jirgba Faeren  Dr Tony   \n",
       "1    2  4/30/2023      SH23/0292A  Jirgba Faeren  Dr Tony   \n",
       "2    3  4/30/2023      SH23/0292A  Jirgba Faeren  Dr Tony   \n",
       "\n",
       "                Sponsor Sponsor Category              Diagnosis  \\\n",
       "0  Jirgba Terese Family           Family  Malaria Enteric fever   \n",
       "1  Jirgba Terese Family           Family  Malaria Enteric fever   \n",
       "2  Jirgba Terese Family           Family  Malaria Enteric fever   \n",
       "\n",
       "                       Drugs Requested     QTY Billed Stock Level  \\\n",
       "0  Inj Artesunate 120mg - NOT for NHIS       0 Amp(s)        -836   \n",
       "1                        5 mls syringe     0 Piece(s)     -15,786   \n",
       "2                             IV Cipro  0 Infusion(s)      -2,315   \n",
       "\n",
       "  Bill of Drugs  \n",
       "0      5,100.00  \n",
       "1           800  \n",
       "2      1,400.00  "
      ]
     },
     "execution_count": 10,
     "metadata": {},
     "output_type": "execute_result"
    }
   ],
   "source": [
    "files=glob.glob('C:\\\\Users\\\\Steph\\\\OneDrive\\\\Documents\\\\Sandra Hospital analysis\\\\2020-2024 Analysis\\\\Pharmacy/*.csv')\n",
    "\n",
    "#Create empty datafram to place values\n",
    "fullpharm = pd.DataFrame()\n",
    "\n",
    "#Loop through each file and populate the dataframe\n",
    "for file in files:\n",
    "    df=pd.read_csv(file)\n",
    "    fullpharm = pd.concat([fullpharm, df], ignore_index = True)\n",
    "    \n",
    "fullpharm.head(3)\n"
   ]
  },
  {
   "cell_type": "code",
   "execution_count": null,
   "id": "53b2fc4e-7f83-4fdb-a2cb-d721da38b6c5",
   "metadata": {},
   "outputs": [],
   "source": []
  }
 ],
 "metadata": {
  "kernelspec": {
   "display_name": "Python 3 (ipykernel)",
   "language": "python",
   "name": "python3"
  },
  "language_info": {
   "codemirror_mode": {
    "name": "ipython",
    "version": 3
   },
   "file_extension": ".py",
   "mimetype": "text/x-python",
   "name": "python",
   "nbconvert_exporter": "python",
   "pygments_lexer": "ipython3",
   "version": "3.11.3"
  }
 },
 "nbformat": 4,
 "nbformat_minor": 5
}
